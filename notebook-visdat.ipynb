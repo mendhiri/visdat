{
 "cells": [
  {
   "cell_type": "code",
   "execution_count": 2,
   "id": "58fa5c3a-5b97-4b83-8fe0-36cd77b5198d",
   "metadata": {
    "collapsed": true,
    "jupyter": {
     "outputs_hidden": true
    },
    "scrolled": true
   },
   "outputs": [
    {
     "name": "stdout",
     "output_type": "stream",
     "text": [
      "Collecting matplotlib\n",
      "  Downloading matplotlib-3.10.1-cp313-cp313-win_amd64.whl.metadata (11 kB)\n",
      "Collecting contourpy>=1.0.1 (from matplotlib)\n",
      "  Downloading contourpy-1.3.1-cp313-cp313-win_amd64.whl.metadata (5.4 kB)\n",
      "Collecting cycler>=0.10 (from matplotlib)\n",
      "  Downloading cycler-0.12.1-py3-none-any.whl.metadata (3.8 kB)\n",
      "Collecting fonttools>=4.22.0 (from matplotlib)\n",
      "  Downloading fonttools-4.56.0-cp313-cp313-win_amd64.whl.metadata (103 kB)\n",
      "Collecting kiwisolver>=1.3.1 (from matplotlib)\n",
      "  Downloading kiwisolver-1.4.8-cp313-cp313-win_amd64.whl.metadata (6.3 kB)\n",
      "Requirement already satisfied: numpy>=1.23 in c:\\users\\ghiffari\\appdata\\local\\programs\\python\\python313\\lib\\site-packages (from matplotlib) (2.2.2)\n",
      "Requirement already satisfied: packaging>=20.0 in c:\\users\\ghiffari\\appdata\\local\\programs\\python\\python313\\lib\\site-packages (from matplotlib) (24.2)\n",
      "Requirement already satisfied: pillow>=8 in c:\\users\\ghiffari\\appdata\\local\\programs\\python\\python313\\lib\\site-packages (from matplotlib) (11.1.0)\n",
      "Collecting pyparsing>=2.3.1 (from matplotlib)\n",
      "  Downloading pyparsing-3.2.1-py3-none-any.whl.metadata (5.0 kB)\n",
      "Requirement already satisfied: python-dateutil>=2.7 in c:\\users\\ghiffari\\appdata\\local\\programs\\python\\python313\\lib\\site-packages (from matplotlib) (2.9.0.post0)\n",
      "Requirement already satisfied: six>=1.5 in c:\\users\\ghiffari\\appdata\\local\\programs\\python\\python313\\lib\\site-packages (from python-dateutil>=2.7->matplotlib) (1.17.0)\n",
      "Downloading matplotlib-3.10.1-cp313-cp313-win_amd64.whl (8.1 MB)\n",
      "   ---------------------------------------- 0.0/8.1 MB ? eta -:--:--\n",
      "   ------- -------------------------------- 1.6/8.1 MB 8.9 MB/s eta 0:00:01\n",
      "   ---------------- ----------------------- 3.4/8.1 MB 8.8 MB/s eta 0:00:01\n",
      "   -------------------------- ------------- 5.2/8.1 MB 8.8 MB/s eta 0:00:01\n",
      "   ------------------------------------ --- 7.3/8.1 MB 9.0 MB/s eta 0:00:01\n",
      "   ---------------------------------------- 8.1/8.1 MB 8.9 MB/s eta 0:00:00\n",
      "Downloading contourpy-1.3.1-cp313-cp313-win_amd64.whl (220 kB)\n",
      "Downloading cycler-0.12.1-py3-none-any.whl (8.3 kB)\n",
      "Downloading fonttools-4.56.0-cp313-cp313-win_amd64.whl (2.2 MB)\n",
      "   ---------------------------------------- 0.0/2.2 MB ? eta -:--:--\n",
      "   -------------------------------------- - 2.1/2.2 MB 10.3 MB/s eta 0:00:01\n",
      "   ---------------------------------------- 2.2/2.2 MB 9.7 MB/s eta 0:00:00\n",
      "Downloading kiwisolver-1.4.8-cp313-cp313-win_amd64.whl (71 kB)\n",
      "Downloading pyparsing-3.2.1-py3-none-any.whl (107 kB)\n",
      "Installing collected packages: pyparsing, kiwisolver, fonttools, cycler, contourpy, matplotlib\n",
      "Successfully installed contourpy-1.3.1 cycler-0.12.1 fonttools-4.56.0 kiwisolver-1.4.8 matplotlib-3.10.1 pyparsing-3.2.1\n",
      "Note: you may need to restart the kernel to use updated packages.\n"
     ]
    }
   ],
   "source": [
    "pip install matplotlib"
   ]
  },
  {
   "cell_type": "code",
   "execution_count": 3,
   "id": "7db5152b-b510-4665-99bb-7e4ba0a34f89",
   "metadata": {
    "scrolled": true
   },
   "outputs": [],
   "source": [
    "import numpy as np\n",
    "import matplotlib.pyplot as plt\n",
    "import pandas as pd"
   ]
  },
  {
   "cell_type": "markdown",
   "id": "17c407d0-232b-468e-a46e-8efc6bb2415f",
   "metadata": {},
   "source": [
    "# Load the dataset"
   ]
  },
  {
   "cell_type": "code",
   "execution_count": 7,
   "id": "a62d7a02-339f-4a29-8ea2-e38323142c5a",
   "metadata": {},
   "outputs": [],
   "source": [
    "# Mendefinisikan path\n",
    "path_1 = r'C:\\Users\\Ghiffari\\Documents\\01-Projects\\01-digital-projects\\01-visualisasi-data\\datas\\2023 Maret JABAR - SUSENAS KP BP 4.1.csv'\n",
    "path_2 = r'C:\\Users\\Ghiffari\\Documents\\01-Projects\\01-digital-projects\\01-visualisasi-data\\datas\\2023 Maret JABAR - SUSENAS KP BP 4.2.csv'\n",
    "path_3 = r'C:\\Users\\Ghiffari\\Documents\\01-Projects\\01-digital-projects\\01-visualisasi-data\\datas\\2023 Maret JABAR - SUSENAS KP BP 4.3.csv'\n",
    "\n",
    "#declaration dataset\n",
    "df_1 = pd.read_csv(path_1)\n",
    "df_2 = pd.read_csv(path_2)\n",
    "df_3 = pd.read_csv(path_2)"
   ]
  },
  {
   "cell_type": "code",
   "execution_count": 13,
   "id": "55d35561-f14d-451b-8e15-fd9d79646406",
   "metadata": {
    "collapsed": true,
    "jupyter": {
     "outputs_hidden": true
    }
   },
   "outputs": [
    {
     "name": "stdout",
     "output_type": "stream",
     "text": [
      "<class 'pandas.core.frame.DataFrame'>\n",
      "RangeIndex: 1410333 entries, 0 to 1410332\n",
      "Data columns (total 25 columns):\n",
      " #   Column      Non-Null Count    Dtype  \n",
      "---  ------      --------------    -----  \n",
      " 0   Unnamed: 0  1410333 non-null  int64  \n",
      " 1   URUT        1410333 non-null  int64  \n",
      " 2   R101        1410333 non-null  int64  \n",
      " 3   R102        1410333 non-null  int64  \n",
      " 4   R105        1410333 non-null  int64  \n",
      " 5   R301        1410333 non-null  int64  \n",
      " 6   KODE        1410333 non-null  int64  \n",
      " 7   KLP         1410333 non-null  int64  \n",
      " 8   COICOP      1074189 non-null  object \n",
      " 9   B41K5       1410333 non-null  float64\n",
      " 10  B41K6       1410333 non-null  int64  \n",
      " 11  B41K7       1410333 non-null  float64\n",
      " 12  B41K8       1410333 non-null  int64  \n",
      " 13  B41K9       1410333 non-null  float64\n",
      " 14  B41K10      1410333 non-null  int64  \n",
      " 15  KALORI      1410333 non-null  float64\n",
      " 16  PROTEIN     1410333 non-null  float64\n",
      " 17  LEMAK       1410333 non-null  float64\n",
      " 18  KARBO       1410333 non-null  float64\n",
      " 19  WERT        1410333 non-null  float64\n",
      " 20  WEIND       1410333 non-null  float64\n",
      " 21  PSU         1410333 non-null  int64  \n",
      " 22  SSU         1410333 non-null  int64  \n",
      " 23  WI1         1410333 non-null  int64  \n",
      " 24  WI2         1410333 non-null  int64  \n",
      "dtypes: float64(9), int64(15), object(1)\n",
      "memory usage: 269.0+ MB\n"
     ]
    }
   ],
   "source": [
    "df_1.info()"
   ]
  },
  {
   "cell_type": "code",
   "execution_count": 28,
   "id": "c804ddda-38f4-434a-9fa4-a951b8b13baa",
   "metadata": {
    "jupyter": {
     "source_hidden": true
    }
   },
   "outputs": [
    {
     "data": {
      "text/plain": [
       "Unnamed: 0         0\n",
       "URUT               0\n",
       "R101               0\n",
       "R102               0\n",
       "R105               0\n",
       "R301               0\n",
       "KODE               0\n",
       "KLP                0\n",
       "COICOP        223987\n",
       "B42K3              0\n",
       "B42K4              0\n",
       "B42K5              0\n",
       "B42K3A             0\n",
       "B42K3B             0\n",
       "B42K3C             0\n",
       "B42K3D             0\n",
       "B42K3E             0\n",
       "SEBULAN            0\n",
       "WERT               0\n",
       "WEIND              0\n",
       "PSU                0\n",
       "SSU                0\n",
       "WI1                0\n",
       "WI2                0\n",
       "dtype: int64"
      ]
     },
     "execution_count": 28,
     "metadata": {},
     "output_type": "execute_result"
    }
   ],
   "source": [
    "df_3.isna().sum()"
   ]
  },
  {
   "cell_type": "code",
   "execution_count": 30,
   "id": "d44896c5-93d2-416f-bc78-363754e65a5e",
   "metadata": {},
   "outputs": [
    {
     "data": {
      "text/plain": [
       "Index(['Unnamed: 0', 'URUT', 'R101', 'R102', 'R105', 'R301', 'KODE', 'KLP',\n",
       "       'COICOP', 'B41K5', 'B41K6', 'B41K7', 'B41K8', 'B41K9', 'B41K10',\n",
       "       'KALORI', 'PROTEIN', 'LEMAK', 'KARBO', 'WERT', 'WEIND', 'PSU', 'SSU',\n",
       "       'WI1', 'WI2'],\n",
       "      dtype='object')"
      ]
     },
     "execution_count": 30,
     "metadata": {},
     "output_type": "execute_result"
    }
   ],
   "source": [
    "df_1.columns"
   ]
  },
  {
   "cell_type": "code",
   "execution_count": 40,
   "id": "4b5ecd53-3311-4049-896c-fc72aec9d4bd",
   "metadata": {},
   "outputs": [
    {
     "data": {
      "text/plain": [
       "2601"
      ]
     },
     "execution_count": 40,
     "metadata": {},
     "output_type": "execute_result"
    }
   ],
   "source": [
    "filtered_df_1 = df_1[['PSU', 'SSU','WI1', 'WI2', 'B41K6', 'B41K7', 'B41K8', 'B41K9']]\n",
    "\n",
    "filtered_df_1.head()\n",
    "filtered_df_1['PSU'].nunique()"
   ]
  },
  {
   "cell_type": "code",
   "execution_count": null,
   "id": "9178a5f1-e450-45f0-aee3-47abed603740",
   "metadata": {},
   "outputs": [],
   "source": []
  }
 ],
 "metadata": {
  "kernelspec": {
   "display_name": "Python 3 (ipykernel)",
   "language": "python",
   "name": "python3"
  },
  "language_info": {
   "codemirror_mode": {
    "name": "ipython",
    "version": 3
   },
   "file_extension": ".py",
   "mimetype": "text/x-python",
   "name": "python",
   "nbconvert_exporter": "python",
   "pygments_lexer": "ipython3",
   "version": "3.13.1"
  }
 },
 "nbformat": 4,
 "nbformat_minor": 5
}
